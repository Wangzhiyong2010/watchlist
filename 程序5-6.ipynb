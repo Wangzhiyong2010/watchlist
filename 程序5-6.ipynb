{
 "cells": [
  {
   "cell_type": "code",
   "execution_count": 2,
   "metadata": {},
   "outputs": [
    {
     "name": "stdout",
     "output_type": "stream",
     "text": [
      "[0]\n"
     ]
    }
   ],
   "source": [
    "#高斯朴素贝叶斯\n",
    "import numpy as np\n",
    "X = np.array([[182.8,81.6,30],[180.4,86.1,29],[170.0,77.1,30],[180.4,74.8,28],\n",
    "              [152.4,45.3,24],[167.6,68.0,26],[165.2,58.9,25],[175.2,68.0,27]])\n",
    "Y = np.array([1,1,1,1,0,0,0,0])\n",
    "from sklearn.naive_bayes import GaussianNB\n",
    "clf = GaussianNB().fit(X, Y)\n",
    "print(clf.predict([[182.8,58.9,26]]))"
   ]
  },
  {
   "cell_type": "code",
   "execution_count": null,
   "metadata": {},
   "outputs": [],
   "source": []
  }
 ],
 "metadata": {
  "kernelspec": {
   "display_name": "Python 3",
   "language": "python",
   "name": "python3"
  },
  "language_info": {
   "codemirror_mode": {
    "name": "ipython",
    "version": 3
   },
   "file_extension": ".py",
   "mimetype": "text/x-python",
   "name": "python",
   "nbconvert_exporter": "python",
   "pygments_lexer": "ipython3",
   "version": "3.7.3"
  }
 },
 "nbformat": 4,
 "nbformat_minor": 2
}
