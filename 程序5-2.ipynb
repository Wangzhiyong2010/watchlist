{
 "cells": [
  {
   "cell_type": "code",
   "execution_count": 1,
   "metadata": {},
   "outputs": [
    {
     "name": "stdout",
     "output_type": "stream",
     "text": [
      "https://www.aliexpress.com/wholesale?SearchText=nike&page=1&ie=utf8&g=y\n",
      "https://www.aliexpress.com/wholesale?SearchText=nike&page=2&ie=utf8&g=y\n",
      "https://www.aliexpress.com/wholesale?SearchText=nike&page=3&ie=utf8&g=y\n",
      "https://www.aliexpress.com/wholesale?SearchText=nike&page=4&ie=utf8&g=y\n",
      "https://www.aliexpress.com/wholesale?SearchText=nike&page=5&ie=utf8&g=y\n",
      "220\n",
      "220\n",
      "220\n",
      "220\n",
      "数据完整，生成 220 组商品数据！\n",
      "正在写入excel表格...\n",
      "写入excel表格成功！\n"
     ]
    }
   ],
   "source": [
    "    # -*- coding: utf-8 -*-  \n",
    "     \n",
    "    import bs4  \n",
    "    import requests  \n",
    "    import re  \n",
    "    import xlwt  \n",
    "    import datetime  \n",
    "      \n",
    "    date = datetime.datetime.now().strftime('%Y-%m-%d')                    # 给文件打上时间戳，便于数据更新  \n",
    "    url = 'https://www.aliexpress.com/wholesale'      # 网址  \n",
    "    payload = {'SearchText': 'nike', 'page': '1', 'ie': 'utf8', 'g': 'y'}  # 字典传递url参数  \n",
    "      \n",
    "    # 初始化数据容器  \n",
    "    title = []  \n",
    "    price = []  \n",
    "    order = []  \n",
    "    store = []  \n",
    "      \n",
    "    for i in range(0, 5):        # 循环5次，就是5个页的商品数据  \n",
    "        payload['page'] = i+ 1    # 此处为页码，根据网页参数具体设置  \n",
    "        resp = requests.get(url, params=payload)  \n",
    "        soup = bs4.BeautifulSoup(resp.text, \"html.parser\")  \n",
    "        print(resp.url)          # 打印访问的网址  \n",
    "        resp.encoding = 'utf-8'  # 设置编码  \n",
    "      \n",
    "        # 标题  \n",
    "        all_title = soup.find_all('a', class_=re.compile(\"history-item product\"))  \n",
    "        for j in all_title:  \n",
    "            soup_title = bs4.BeautifulSoup(str(j), \"html.parser\",)  \n",
    "            title.append(soup_title.a['title'])  \n",
    "        # 价格  \n",
    "        all_price = soup.find_all('span', itemprop=\"price\")  \n",
    "        for k in all_price:  \n",
    "            soup_price = bs4.BeautifulSoup(str(k), \"html.parser\")  \n",
    "            price.append(soup_price.span.string)  \n",
    "        # 订单量  \n",
    "        all_order = soup.find_all('a', class_=re.compile(\"order-num-a\"))  \n",
    "        for l in all_order:  \n",
    "            soup_order = bs4.BeautifulSoup(str(l), \"html.parser\")  \n",
    "            order.append(soup_order.em.string)  \n",
    "        # 店铺名称  \n",
    "        all_store = soup.find_all('div', class_=\"store-name util-clearfix\")  \n",
    "        for m in all_store:  \n",
    "            soup_store = bs4.BeautifulSoup(str(m), \"html.parser\")  \n",
    "            store.append(soup_store.a.string)  \n",
    "      \n",
    "    # 数据验证  \n",
    "    print(len(title))  \n",
    "    print(len(price))  \n",
    "    print(len(order))  \n",
    "    print(len(store))  \n",
    "      \n",
    "    if len(title) == len(price) == len(order) == len(store):  \n",
    "        print(\"数据完整，生成 %d 组商品数据！\" % len(title))  \n",
    "      \n",
    "    # 写入excel文档  \n",
    "    print(\"正在写入excel表格...\")  \n",
    "    wookbook = xlwt.Workbook(encoding='utf-8')  # 创建工作簿  \n",
    "    data_sheet = wookbook.add_sheet('demo')     # 创建sheet  \n",
    "      \n",
    "    # 生成每一行数据  \n",
    "    for n in range(len(title)):  \n",
    "        data_sheet.write(n, 0, n+1)  \n",
    "        data_sheet.write(n, 1, title[n])        # n 表示行， 1 表示列  \n",
    "        data_sheet.write(n, 2, price[n])  \n",
    "        data_sheet.write(n, 3, order[n])  \n",
    "        data_sheet.write(n, 4, store[n])  \n",
    "      \n",
    "      \n",
    "    wookbook.save(\"%s-%s.xls\" % (payload['SearchText'], date))  \n",
    "    print(\"写入excel表格成功！\")  "
   ]
  },
  {
   "cell_type": "code",
   "execution_count": null,
   "metadata": {
    "collapsed": true
   },
   "outputs": [],
   "source": []
  }
 ],
 "metadata": {
  "kernelspec": {
   "display_name": "Python 3",
   "language": "python",
   "name": "python3"
  },
  "language_info": {
   "codemirror_mode": {
    "name": "ipython",
    "version": 3
   },
   "file_extension": ".py",
   "mimetype": "text/x-python",
   "name": "python",
   "nbconvert_exporter": "python",
   "pygments_lexer": "ipython3",
   "version": "3.6.3"
  }
 },
 "nbformat": 4,
 "nbformat_minor": 2
}
