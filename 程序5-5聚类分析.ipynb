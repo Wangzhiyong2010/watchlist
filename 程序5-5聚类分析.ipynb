{
 "cells": [
  {
   "cell_type": "code",
   "execution_count": 11,
   "metadata": {},
   "outputs": [
    {
     "name": "stdout",
     "output_type": "stream",
     "text": [
      "[0 2 2 2 1 2 0 2 2 2 0 0 2 2 2 0 0]\n",
      "0->0\n",
      "1->2\n",
      "2->2\n",
      "3->2\n",
      "4->1\n",
      "5->2\n",
      "6->0\n",
      "7->2\n",
      "8->2\n",
      "9->2\n",
      "10->0\n",
      "11->0\n",
      "12->2\n",
      "13->2\n",
      "14->2\n",
      "15->0\n",
      "16->0\n"
     ]
    },
    {
     "name": "stderr",
     "output_type": "stream",
     "text": [
      "d:\\Anaconda3\\lib\\site-packages\\matplotlib\\cbook\\deprecation.py:106: MatplotlibDeprecationWarning: Adding an axes using the same arguments as a previous axes currently reuses the earlier instance.  In a future version, a new instance will always be created and returned.  Meanwhile, this warning can be suppressed, and the future behavior ensured, by passing a unique label to each axes instance.\n",
      "  warnings.warn(message, mplDeprecation, stacklevel=1)\n"
     ]
    },
    {
     "data": {
      "image/png": "[encoded data removed]",
      "text/plain": [
       "<matplotlib.figure.Figure at 0x1810f8757b8>"
      ]
     },
     "metadata": {},
     "output_type": "display_data"
    }
   ],
   "source": [
    "#通过聚类分析客户价值\n",
    "import csv\n",
    "import pandas as pda\n",
    "import numpy as npy\n",
    "import matplotlib.pylab as pyl\n",
    "\n",
    "fname=\"company.csv\"\n",
    "dataf=pda.read_csv(fname,encoding=\"gbk\")\n",
    "x=dataf.as_matrix()\n",
    "\n",
    "from sklearn.cluster import KMeans\n",
    "kms=KMeans(n_clusters=3)\n",
    "y=kms.fit_predict(x)\n",
    "print(y)\n",
    "\n",
    "#年龄-消费金额图，消费时间-消费金额图，年龄-消费时间图\n",
    "for i in range(0,len(y)):\n",
    "    if(y[i]==0):\n",
    "        print(str(i)+\"->0\")\n",
    "        pyl.subplot(2,3,1)\n",
    "        #年龄-消费金额图\n",
    "        pyl.plot(x[i:i+1,0:1],x[i:i+1,1:2],\"*r\")\n",
    "        pyl.subplot(2,3,2)\n",
    "        #消费时间-消费金额图\n",
    "        pyl.plot(x[i:i+1,2:3],x[i:i+1,1:2],\"*r\")\n",
    "        pyl.subplot(2,3,3)\n",
    "        #年龄-消费时间图\n",
    "        pyl.plot(x[i:i+1,0:1],x[i:i+1,2:3],\"*r\")\n",
    "    elif(y[i]==1):\n",
    "        print(str(i)+\"->1\")\n",
    "        pyl.subplot(2,3,1)\n",
    "        #年龄-消费金额图\n",
    "        pyl.plot(x[i:i+1,0:1],x[i:i+1,1:2],\"sy\")\n",
    "        pyl.subplot(2,3,2)\n",
    "        #消费时间-消费金额图\n",
    "        pyl.plot(x[i:i+1,2:3],x[i:i+1,1:2],\"sy\")\n",
    "        pyl.subplot(2,3,3)\n",
    "        #年龄-消费时间图\n",
    "        pyl.plot(x[i:i+1,0:1],x[i:i+1,2:3],\"sy\")\n",
    "    elif(y[i]==2):\n",
    "        print(str(i)+\"->2\")\n",
    "        pyl.subplot(2,3,1)\n",
    "        #年龄-消费金额图\n",
    "        pyl.plot(x[i:i+1,0:1],x[i:i+1,1:2],\"pb\")\n",
    "        pyl.subplot(2,3,2)\n",
    "        #消费时间-消费金额图\n",
    "        pyl.plot(x[i:i+1,2:3],x[i:i+1,1:2],\"pb\")\n",
    "        pyl.subplot(2,3,3)\n",
    "        #年龄-消费时间图\n",
    "        pyl.plot(x[i:i+1,0:1],x[i:i+1,2:3],\"pb\")\n",
    "pyl.show()"
   ]
  },
  {
   "cell_type": "code",
   "execution_count": null,
   "metadata": {},
   "outputs": [],
   "source": []
  }
 ],
 "metadata": {
  "kernelspec": {
   "display_name": "Python 3",
   "language": "python",
   "name": "python3"
  },
  "language_info": {
   "codemirror_mode": {
    "name": "ipython",
    "version": 3
   },
   "file_extension": ".py",
   "mimetype": "text/x-python",
   "name": "python",
   "nbconvert_exporter": "python",
   "pygments_lexer": "ipython3",
   "version": "3.6.4"
  }
 },
 "nbformat": 4,
 "nbformat_minor": 2
}
